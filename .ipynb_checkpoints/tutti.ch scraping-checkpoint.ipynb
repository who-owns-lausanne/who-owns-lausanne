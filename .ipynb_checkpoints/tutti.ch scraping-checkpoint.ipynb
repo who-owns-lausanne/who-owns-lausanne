{
 "cells": [
  {
   "cell_type": "code",
   "execution_count": 10,
   "metadata": {},
   "outputs": [
    {
     "name": "stdout",
     "output_type": "stream",
     "text": [
      "The autoreload extension is already loaded. To reload it, use:\n",
      "  %reload_ext autoreload\n"
     ]
    },
    {
     "data": {
      "text/plain": [
       "{'divide': 'raise', 'invalid': 'raise', 'over': 'raise', 'under': 'raise'}"
      ]
     },
     "execution_count": 10,
     "metadata": {},
     "output_type": "execute_result"
    }
   ],
   "source": [
    "import pandas as pd\n",
    "import numpy as np\n",
    "from numpy import char as npc\n",
    "import requests\n",
    "from bs4 import BeautifulSoup\n",
    "import scipy.stats\n",
    "import matplotlib.pyplot as plt\n",
    "import re\n",
    "import os\n",
    "from datetime import datetime\n",
    "%matplotlib inline\n",
    "\n",
    "import seaborn as sns\n",
    "sns.set()\n",
    "\n",
    "import json\n",
    "\n",
    "from IPython.core.interactiveshell import InteractiveShell\n",
    "InteractiveShell.ast_node_interactivity = \"all\"\n",
    "\n",
    "%load_ext autoreload\n",
    "%autoreload 2\n",
    "\n",
    "np.seterr(all='raise');\n",
    "\n",
    "from IPython.display import set_matplotlib_formats\n",
    "set_matplotlib_formats('retina')"
   ]
  },
  {
   "cell_type": "code",
   "execution_count": 78,
   "metadata": {
    "collapsed": true
   },
   "outputs": [],
   "source": [
    "def getTutti(region, subcategory, page=1, limit=100):\n",
    "    cookies = {\n",
    "        'ajs_user_id': 'null',\n",
    "        'ajs_group_id': 'null',\n",
    "        'lang': 'fr',\n",
    "        'ajs_anonymous_id': '%22bf0a3c34-c83f-4764-a48f-c783309a9f4c%22',\n",
    "        '_gcl_au': '1.1.253718592.1542968730',\n",
    "        '_ga': 'GA1.2.1357180133.1542968730',\n",
    "        '_gid': 'GA1.2.2109516043.1542968730',\n",
    "        'adw': '12a92c4c-f201-44a3-a5ce-26dbbce57a94',\n",
    "        '_gat_UA-88671020-1': '1',\n",
    "    }\n",
    "    headers = {\n",
    "        'AlexaToolbar-ALX_NS_PH': 'AlexaToolbar/alx-4.0.3',\n",
    "        'Origin': 'https://www.tutti.ch',\n",
    "        'Accept-Encoding': 'gzip, deflate, br',\n",
    "        'Accept-Language': 'fr',\n",
    "        'User-Agent': 'Mozilla/5.0 (Macintosh; Intel Mac OS X 10_12_6) AppleWebKit/537.36 (KHTML, like Gecko) Chrome/70.0.3538.77 Safari/537.36',\n",
    "        'Accept': 'application/json, text/plain, */*',\n",
    "        'Referer': 'https://www.tutti.ch/fr/li/vaud/lausanne/immobilier/appartements?o=2',\n",
    "        'Connection': 'keep-alive',\n",
    "        'X-Tutti-Hash': '81fd68a0-47a0-4b8b-9401-4c63cb416c5e',\n",
    "        'X-Tutti-Source': 'web LIVE-181123-163',\n",
    "        'DNT': '1',\n",
    "    }\n",
    "    params = (\n",
    "        ('category', '1000'),\n",
    "        ('limit', limit),\n",
    "        ('m', '131'),\n",
    "        ('o', page),\n",
    "        ('region', region),\n",
    "        ('subcategory', subcategory),\n",
    "        ('with_all_regions', 'false'),\n",
    "    )\n",
    "\n",
    "    response = requests.get('https://api.tutti.ch/v10/list.json', headers=headers, params=params, cookies=cookies)\n",
    "    return json.loads(response.content)"
   ]
  },
  {
   "cell_type": "code",
   "execution_count": 79,
   "metadata": {},
   "outputs": [],
   "source": []
  },
  {
   "cell_type": "code",
   "execution_count": 68,
   "metadata": {
    "collapsed": true
   },
   "outputs": [],
   "source": [
    "def pretty(j):\n",
    "    \"\"\"Pretty print JSON\"\"\"\n",
    "    print(json.dumps(j, indent=2))"
   ]
  },
  {
   "cell_type": "code",
   "execution_count": 69,
   "metadata": {},
   "outputs": [],
   "source": [
    "#pretty(j['items'])"
   ]
  },
  {
   "cell_type": "code",
   "execution_count": 70,
   "metadata": {},
   "outputs": [
    {
     "data": {
      "text/plain": [
       "100"
      ]
     },
     "execution_count": 70,
     "metadata": {},
     "output_type": "execute_result"
    }
   ],
   "source": [
    "len(j['items'])"
   ]
  },
  {
   "cell_type": "code",
   "execution_count": 80,
   "metadata": {},
   "outputs": [],
   "source": [
    "def saveJson(data, name):\n",
    "    with open(name, 'w') as outfile:\n",
    "        json.dump(data, outfile)"
   ]
  },
  {
   "cell_type": "code",
   "execution_count": 81,
   "metadata": {},
   "outputs": [],
   "source": [
    "j = getTutti(region=20, subcategory=1020, page=1, limit=100)\n",
    "saveJson(j, 'tutti/region=20, subcategory=1020, page=1, limit=100.json')"
   ]
  },
  {
   "cell_type": "code",
   "execution_count": null,
   "metadata": {
    "collapsed": true
   },
   "outputs": [],
   "source": []
  }
 ],
 "metadata": {
  "kernelspec": {
   "display_name": "Python 3",
   "language": "python",
   "name": "python3"
  },
  "language_info": {
   "codemirror_mode": {
    "name": "ipython",
    "version": 3
   },
   "file_extension": ".py",
   "mimetype": "text/x-python",
   "name": "python",
   "nbconvert_exporter": "python",
   "pygments_lexer": "ipython3",
   "version": "3.6.3"
  }
 },
 "nbformat": 4,
 "nbformat_minor": 2
}
