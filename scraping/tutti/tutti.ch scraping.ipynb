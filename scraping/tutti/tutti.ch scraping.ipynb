{
 "cells": [
  {
   "cell_type": "code",
   "execution_count": 6,
   "metadata": {
    "collapsed": true
   },
   "outputs": [],
   "source": [
    "import pandas as pd\n",
    "from pandas.io.json import json_normalize\n",
    "import numpy as np\n",
    "from numpy import char as npc\n",
    "import requests\n",
    "from bs4 import BeautifulSoup\n",
    "import scipy.stats\n",
    "import matplotlib.pyplot as plt\n",
    "import re\n",
    "import os\n",
    "import math\n",
    "from datetime import datetime\n",
    "%matplotlib inline\n",
    "\n",
    "import seaborn as sns\n",
    "sns.set()\n",
    "\n",
    "import json\n",
    "\n",
    "from IPython.core.interactiveshell import InteractiveShell\n",
    "InteractiveShell.ast_node_interactivity = \"all\"\n",
    "\n",
    "%load_ext autoreload\n",
    "%autoreload 2\n",
    "\n",
    "from IPython.display import set_matplotlib_formats\n",
    "set_matplotlib_formats('retina')"
   ]
  },
  {
   "cell_type": "markdown",
   "metadata": {},
   "source": [
    "The following jupyter notebook illustrate the step tooken to scrape required real estate offers from [tutti.ch](https://www.tutti.ch/fr/li/vaud/lausanne/immobilier?o=1).\n",
    "\n",
    "For our work we only need the annoncements of real estate in the area of Lausanne.\n",
    "\n",
    "The final dataframe is saved as a JSON file named 'tutti.json'."
   ]
  },
  {
   "cell_type": "code",
   "execution_count": 19,
   "metadata": {
    "collapsed": true
   },
   "outputs": [],
   "source": [
    "RAW_DIR = '../../data/raw/tutti/'\n",
    "FINAL_DIR = '../../data/rents/'"
   ]
  },
  {
   "cell_type": "markdown",
   "metadata": {},
   "source": [
    "### 1. Go through all pages and save it locally"
   ]
  },
  {
   "cell_type": "markdown",
   "metadata": {},
   "source": [
    "The first step is go through all the available pages and save the response JSON locally. The data are saved in the `data/raw/tutti` directory."
   ]
  },
  {
   "cell_type": "code",
   "execution_count": 8,
   "metadata": {
    "collapsed": true
   },
   "outputs": [],
   "source": [
    "def getTutti(page, limit=100):\n",
    "    cookies = {\n",
    "        'ajs_user_id': 'null',\n",
    "        'ajs_group_id': 'null',\n",
    "        'lang': 'fr',\n",
    "        'ajs_anonymous_id': '%22bf0a3c34-c83f-4764-a48f-c783309a9f4c%22',\n",
    "        '_gcl_au': '1.1.253718592.1542968730',\n",
    "        '_ga': 'GA1.2.1357180133.1542968730',\n",
    "        '_gid': 'GA1.2.2109516043.1542968730',\n",
    "        'adw': '12a92c4c-f201-44a3-a5ce-26dbbce57a94',\n",
    "        '_gat_UA-88671020-1': '1',\n",
    "    }\n",
    "    headers = {\n",
    "        'AlexaToolbar-ALX_NS_PH': 'AlexaToolbar/alx-4.0.3',\n",
    "        'Origin': 'https://www.tutti.ch',\n",
    "        'Accept-Encoding': 'gzip, deflate, br',\n",
    "        'Accept-Language': 'fr',\n",
    "        'User-Agent': 'Mozilla/5.0 (Macintosh; Intel Mac OS X 10_12_6) AppleWebKit/537.36 (KHTML, like Gecko) Chrome/70.0.3538.77 Safari/537.36',\n",
    "        'Accept': 'application/json, text/plain, */*',\n",
    "        'Referer': 'https://www.tutti.ch/fr/li/vaud/lausanne/immobilier/appartements?o=2',\n",
    "        'Connection': 'keep-alive',\n",
    "        'X-Tutti-Hash': '81fd68a0-47a0-4b8b-9401-4c63cb416c5e',\n",
    "        'X-Tutti-Source': 'web LIVE-181123-163',\n",
    "        'DNT': '1',\n",
    "    }\n",
    "    params = (\n",
    "        ('category', '1000'),\n",
    "        ('limit', limit),\n",
    "        ('m', '131'),\n",
    "        ('o', page),\n",
    "        ('region', '20'), # Region 20: lausanne\n",
    "        ('subcategory', ''),\n",
    "        ('with_all_regions', 'false'),\n",
    "    )\n",
    "\n",
    "    response = requests.get('https://api.tutti.ch/v10/list.json', headers=headers, params=params, cookies=cookies)\n",
    "    return json.loads(response.content)"
   ]
  },
  {
   "cell_type": "code",
   "execution_count": 9,
   "metadata": {
    "collapsed": true
   },
   "outputs": [],
   "source": [
    "def saveJson(data, filename):\n",
    "    with open(filename, 'w') as outfile:\n",
    "        json.dump(data, outfile)"
   ]
  },
  {
   "cell_type": "code",
   "execution_count": 10,
   "metadata": {
    "collapsed": true
   },
   "outputs": [],
   "source": [
    "def loadJson(filename):\n",
    "    with open(filename, 'r') as outfile:\n",
    "        return json.load(outfile)"
   ]
  },
  {
   "cell_type": "markdown",
   "metadata": {},
   "source": [
    "Get all tutti.ch advertisment from region 20"
   ]
  },
  {
   "cell_type": "code",
   "execution_count": 20,
   "metadata": {},
   "outputs": [],
   "source": [
    "# Compute number of pages to iterate\n",
    "limit = 100\n",
    "total_ads = getTutti(page=1, limit=limit)['search_total']\n",
    "pages = math.ceil(total_ads/limit)\n",
    "\n",
    "# Iterate through all pages in region=20 (Lausanne) and save data locally\n",
    "for page in np.arange(1, pages+1):\n",
    "    j = getTutti(page=page, limit=limit)\n",
    "    filename = RAW_DIR + 'page_' + str(page) + '.json'\n",
    "    saveJson(j, filename)"
   ]
  },
  {
   "cell_type": "markdown",
   "metadata": {},
   "source": [
    "At this point there are *pages* different JSON file that need to be read, merged and cleaned."
   ]
  },
  {
   "cell_type": "markdown",
   "metadata": {},
   "source": [
    "### 2. Open, merge and clean"
   ]
  },
  {
   "cell_type": "markdown",
   "metadata": {},
   "source": [
    "Iterate over all *json* in dir and save it on a JSON. \n",
    "\n",
    "The `json_normalize` function turned out to be very useful to flatten all JSON cells. "
   ]
  },
  {
   "cell_type": "code",
   "execution_count": 21,
   "metadata": {},
   "outputs": [
    {
     "name": "stdout",
     "output_type": "stream",
     "text": [
      "page_1.json\n",
      "page_2.json\n",
      "page_3.json\n",
      "page_4.json\n",
      "page_5.json\n",
      "page_6.json\n",
      "page_7.json\n"
     ]
    }
   ],
   "source": [
    "all_json_filename = os.listdir(RAW_DIR)\n",
    "# Take only .json file\n",
    "all_json_filename = list(filter(lambda x: x.endswith('.json'), all_json_filename))\n",
    "\n",
    "all_json = []\n",
    "\n",
    "for j_ in all_json_filename:\n",
    "    print(j_)\n",
    "    j_tmp = loadJson(RAW_DIR + j_)\n",
    "    \n",
    "    # Read JSON (and flatten values)\n",
    "    pd_ = json_normalize(j_tmp['items'])\n",
    "    \n",
    "    # Save pandas obj \n",
    "    all_json.append(pd_)\n",
    "    \n",
    "df = pd.concat(all_json, ignore_index=True ,sort=False)"
   ]
  },
  {
   "cell_type": "code",
   "execution_count": 22,
   "metadata": {},
   "outputs": [
    {
     "data": {
      "text/html": [
       "<div>\n",
       "<style scoped>\n",
       "    .dataframe tbody tr th:only-of-type {\n",
       "        vertical-align: middle;\n",
       "    }\n",
       "\n",
       "    .dataframe tbody tr th {\n",
       "        vertical-align: top;\n",
       "    }\n",
       "\n",
       "    .dataframe thead th {\n",
       "        text-align: right;\n",
       "    }\n",
       "</style>\n",
       "<table border=\"1\" class=\"dataframe\">\n",
       "  <thead>\n",
       "    <tr style=\"text-align: right;\">\n",
       "      <th></th>\n",
       "      <th>body</th>\n",
       "      <th>category_info.id</th>\n",
       "      <th>category_info.name</th>\n",
       "      <th>category_info.parent_id</th>\n",
       "      <th>category_info.parent_name</th>\n",
       "      <th>company_ad</th>\n",
       "      <th>epoch_time</th>\n",
       "      <th>highlight</th>\n",
       "      <th>id</th>\n",
       "      <th>image_names</th>\n",
       "      <th>...</th>\n",
       "      <th>location_info.region_id</th>\n",
       "      <th>location_info.region_name</th>\n",
       "      <th>parameters</th>\n",
       "      <th>phone_hash</th>\n",
       "      <th>price</th>\n",
       "      <th>public_account_id</th>\n",
       "      <th>subject</th>\n",
       "      <th>thumb_name</th>\n",
       "      <th>type</th>\n",
       "      <th>user_alias</th>\n",
       "    </tr>\n",
       "  </thead>\n",
       "  <tbody>\n",
       "    <tr>\n",
       "      <th>0</th>\n",
       "      <td>Sur deux niveaux. Quatre chambres Ã  l'Ã©tage....</td>\n",
       "      <td>1040</td>\n",
       "      <td>Maisons</td>\n",
       "      <td>1000</td>\n",
       "      <td>Immobilier</td>\n",
       "      <td>True</td>\n",
       "      <td>1542978625</td>\n",
       "      <td>False</td>\n",
       "      <td>24826554</td>\n",
       "      <td>[5802942370.jpg, 5854082284.jpg, 5817113187.jp...</td>\n",
       "      <td>...</td>\n",
       "      <td>20</td>\n",
       "      <td>Vaud</td>\n",
       "      <td>[{'id': 'price', 'value': '1'580'000.-', 'labe...</td>\n",
       "      <td>fc1a3809531909a7d549eba30d44ff6b38e21dba</td>\n",
       "      <td>1'580'000.-</td>\n",
       "      <td>NaN</td>\n",
       "      <td>Belle maison moderne et confortable Ã  vendre</td>\n",
       "      <td>5802942370.jpg</td>\n",
       "      <td>s</td>\n",
       "      <td>JustImmo</td>\n",
       "    </tr>\n",
       "    <tr>\n",
       "      <th>1</th>\n",
       "      <td>Ã€ louer au Boveresses 73 1010 lausanne , \\nun...</td>\n",
       "      <td>1020</td>\n",
       "      <td>Appartements</td>\n",
       "      <td>1000</td>\n",
       "      <td>Immobilier</td>\n",
       "      <td>True</td>\n",
       "      <td>1542977489</td>\n",
       "      <td>False</td>\n",
       "      <td>23588353</td>\n",
       "      <td>[]</td>\n",
       "      <td>...</td>\n",
       "      <td>20</td>\n",
       "      <td>Vaud</td>\n",
       "      <td>[{'id': 'price', 'value': '1'470.- par mois', ...</td>\n",
       "      <td>9f0ff2bc2a269be5e044139dd6688148d0dea247</td>\n",
       "      <td>1'470.- par mois</td>\n",
       "      <td>NaN</td>\n",
       "      <td>Appartement Ã  louer</td>\n",
       "      <td>NaN</td>\n",
       "      <td>u</td>\n",
       "      <td>ImmoArena24</td>\n",
       "    </tr>\n",
       "  </tbody>\n",
       "</table>\n",
       "<p>2 rows × 25 columns</p>\n",
       "</div>"
      ],
      "text/plain": [
       "                                                body category_info.id  \\\n",
       "0  Sur deux niveaux. Quatre chambres Ã  l'Ã©tage....             1040   \n",
       "1  Ã€ louer au Boveresses 73 1010 lausanne , \\nun...             1020   \n",
       "\n",
       "  category_info.name category_info.parent_id category_info.parent_name  \\\n",
       "0            Maisons                    1000                Immobilier   \n",
       "1       Appartements                    1000                Immobilier   \n",
       "\n",
       "   company_ad  epoch_time  highlight        id  \\\n",
       "0        True  1542978625      False  24826554   \n",
       "1        True  1542977489      False  23588353   \n",
       "\n",
       "                                         image_names     ...       \\\n",
       "0  [5802942370.jpg, 5854082284.jpg, 5817113187.jp...     ...        \n",
       "1                                                 []     ...        \n",
       "\n",
       "  location_info.region_id location_info.region_name  \\\n",
       "0                      20                      Vaud   \n",
       "1                      20                      Vaud   \n",
       "\n",
       "                                          parameters  \\\n",
       "0  [{'id': 'price', 'value': '1'580'000.-', 'labe...   \n",
       "1  [{'id': 'price', 'value': '1'470.- par mois', ...   \n",
       "\n",
       "                                 phone_hash              price  \\\n",
       "0  fc1a3809531909a7d549eba30d44ff6b38e21dba        1'580'000.-   \n",
       "1  9f0ff2bc2a269be5e044139dd6688148d0dea247   1'470.- par mois   \n",
       "\n",
       "   public_account_id                                        subject  \\\n",
       "0                NaN  Belle maison moderne et confortable Ã  vendre   \n",
       "1                NaN                           Appartement Ã  louer   \n",
       "\n",
       "       thumb_name type   user_alias  \n",
       "0  5802942370.jpg    s     JustImmo  \n",
       "1             NaN    u  ImmoArena24  \n",
       "\n",
       "[2 rows x 25 columns]"
      ]
     },
     "execution_count": 22,
     "metadata": {},
     "output_type": "execute_result"
    }
   ],
   "source": [
    "df.head(2)"
   ]
  },
  {
   "cell_type": "code",
   "execution_count": 23,
   "metadata": {},
   "outputs": [
    {
     "data": {
      "text/plain": [
       "(676, 25)"
      ]
     },
     "execution_count": 23,
     "metadata": {},
     "output_type": "execute_result"
    }
   ],
   "source": [
    "df.shape"
   ]
  },
  {
   "cell_type": "markdown",
   "metadata": {},
   "source": [
    "The DataFrame df still contains a column 'parameters' that is not an easy parsable JSON object. Get rid of it in a dirty way:"
   ]
  },
  {
   "cell_type": "code",
   "execution_count": 24,
   "metadata": {
    "collapsed": true
   },
   "outputs": [],
   "source": [
    "def posIdInParameter(id_, p):\n",
    "    \"\"\"Return position of the list where the id is contained\"\"\"\n",
    "    pos = -1\n",
    "    values = [value['id'] for value in p]\n",
    "    zip_ = dict(zip(values, np.arange(0,len(p))))\n",
    "    if (id_ in values):\n",
    "        pos = zip_[id_]\n",
    "    return pos"
   ]
  },
  {
   "cell_type": "code",
   "execution_count": 25,
   "metadata": {
    "collapsed": true
   },
   "outputs": [],
   "source": [
    "def cleanParameter(p):\n",
    "    \"\"\"From parameter objects p, return Pandas Series with only nmr. of rooms, size and type\"\"\"\n",
    "    \n",
    "    rooms, size, type_ = [np.nan] * 3\n",
    "    \n",
    "    # Check for rooms\n",
    "    pos_rooms = posIdInParameter('rooms', p)\n",
    "    if (pos_rooms != -1):\n",
    "        rooms = p[pos_rooms]['value']\n",
    "        \n",
    "    # Check for size\n",
    "    pos_size = posIdInParameter('size', p)\n",
    "    if (pos_size != -1):\n",
    "        size = p[pos_size]['value']\n",
    "        \n",
    "    # Check for type_\n",
    "    pos_type = posIdInParameter('type', p)\n",
    "    if (pos_type != -1):\n",
    "        type_ = p[pos_type]['value']\n",
    "    \n",
    "    return pd.Series([rooms, size, type_])"
   ]
  },
  {
   "cell_type": "code",
   "execution_count": 26,
   "metadata": {
    "collapsed": true
   },
   "outputs": [],
   "source": [
    "parameters = df['parameters'].apply(lambda p: cleanParameter(p))\n",
    "parameters.columns = ['rooms', 'size', 'type_param']"
   ]
  },
  {
   "cell_type": "code",
   "execution_count": 27,
   "metadata": {},
   "outputs": [
    {
     "data": {
      "text/html": [
       "<div>\n",
       "<style scoped>\n",
       "    .dataframe tbody tr th:only-of-type {\n",
       "        vertical-align: middle;\n",
       "    }\n",
       "\n",
       "    .dataframe tbody tr th {\n",
       "        vertical-align: top;\n",
       "    }\n",
       "\n",
       "    .dataframe thead th {\n",
       "        text-align: right;\n",
       "    }\n",
       "</style>\n",
       "<table border=\"1\" class=\"dataframe\">\n",
       "  <thead>\n",
       "    <tr style=\"text-align: right;\">\n",
       "      <th></th>\n",
       "      <th>body</th>\n",
       "      <th>category_info.name</th>\n",
       "      <th>epoch_time</th>\n",
       "      <th>id</th>\n",
       "      <th>location_info.address</th>\n",
       "      <th>location_info.plz</th>\n",
       "      <th>price</th>\n",
       "      <th>subject</th>\n",
       "      <th>type</th>\n",
       "      <th>user_alias</th>\n",
       "      <th>rooms</th>\n",
       "      <th>size</th>\n",
       "      <th>type_param</th>\n",
       "    </tr>\n",
       "  </thead>\n",
       "  <tbody>\n",
       "    <tr>\n",
       "      <th>0</th>\n",
       "      <td>Sur deux niveaux. Quatre chambres Ã  l'Ã©tage....</td>\n",
       "      <td>Maisons</td>\n",
       "      <td>1542978625</td>\n",
       "      <td>24826554</td>\n",
       "      <td>NaN</td>\n",
       "      <td>1066</td>\n",
       "      <td>1'580'000.-</td>\n",
       "      <td>Belle maison moderne et confortable Ã  vendre</td>\n",
       "      <td>s</td>\n",
       "      <td>JustImmo</td>\n",
       "      <td>5.5</td>\n",
       "      <td>170m²</td>\n",
       "      <td>Offres de vente</td>\n",
       "    </tr>\n",
       "    <tr>\n",
       "      <th>1</th>\n",
       "      <td>Ã€ louer au Boveresses 73 1010 lausanne , \\nun...</td>\n",
       "      <td>Appartements</td>\n",
       "      <td>1542977489</td>\n",
       "      <td>23588353</td>\n",
       "      <td>NaN</td>\n",
       "      <td>1010</td>\n",
       "      <td>1'470.- par mois</td>\n",
       "      <td>Appartement Ã  louer</td>\n",
       "      <td>u</td>\n",
       "      <td>ImmoArena24</td>\n",
       "      <td>3.5</td>\n",
       "      <td>90m²</td>\n",
       "      <td>Offres de location</td>\n",
       "    </tr>\n",
       "  </tbody>\n",
       "</table>\n",
       "</div>"
      ],
      "text/plain": [
       "                                                body category_info.name  \\\n",
       "0  Sur deux niveaux. Quatre chambres Ã  l'Ã©tage....            Maisons   \n",
       "1  Ã€ louer au Boveresses 73 1010 lausanne , \\nun...       Appartements   \n",
       "\n",
       "   epoch_time        id location_info.address location_info.plz  \\\n",
       "0  1542978625  24826554                   NaN              1066   \n",
       "1  1542977489  23588353                   NaN              1010   \n",
       "\n",
       "               price                                        subject type  \\\n",
       "0        1'580'000.-  Belle maison moderne et confortable Ã  vendre    s   \n",
       "1   1'470.- par mois                           Appartement Ã  louer    u   \n",
       "\n",
       "    user_alias rooms   size          type_param  \n",
       "0     JustImmo   5.5  170m²     Offres de vente  \n",
       "1  ImmoArena24   3.5   90m²  Offres de location  "
      ]
     },
     "execution_count": 27,
     "metadata": {},
     "output_type": "execute_result"
    }
   ],
   "source": [
    "df = df.merge(parameters, left_index=True, right_index=True)\n",
    "\n",
    "\n",
    "# Drop not useful columns\n",
    "not_useful_columns = ['company_ad', \n",
    "                      'image_names', \n",
    "                      'language', \n",
    "                      'parameters', \n",
    "                      'phone_hash', \n",
    "                      'thumb_name', \n",
    "                      'category_info.id',\n",
    "                      'category_info.parent_id',\n",
    "                      'category_info.parent_name',\n",
    "                      'highlight',\n",
    "                      'location_info.area', # since all 'lausanne',\n",
    "                      'location_info.area_id',\n",
    "                      'location_info.region_name',\n",
    "                      'location_info.region_id',\n",
    "                      'public_account_id',\n",
    "                     ]\n",
    "df.drop(not_useful_columns, axis='columns', inplace=True)\n",
    "\n",
    "df.head(2)"
   ]
  },
  {
   "cell_type": "markdown",
   "metadata": {},
   "source": [
    "### 3. Export to JSON format"
   ]
  },
  {
   "cell_type": "code",
   "execution_count": 31,
   "metadata": {},
   "outputs": [
    {
     "data": {
      "text/html": [
       "<div>\n",
       "<style scoped>\n",
       "    .dataframe tbody tr th:only-of-type {\n",
       "        vertical-align: middle;\n",
       "    }\n",
       "\n",
       "    .dataframe tbody tr th {\n",
       "        vertical-align: top;\n",
       "    }\n",
       "\n",
       "    .dataframe thead th {\n",
       "        text-align: right;\n",
       "    }\n",
       "</style>\n",
       "<table border=\"1\" class=\"dataframe\">\n",
       "  <thead>\n",
       "    <tr style=\"text-align: right;\">\n",
       "      <th></th>\n",
       "      <th>body</th>\n",
       "      <th>category_info.name</th>\n",
       "      <th>epoch_time</th>\n",
       "      <th>id</th>\n",
       "      <th>address</th>\n",
       "      <th>postCode</th>\n",
       "      <th>price</th>\n",
       "      <th>title</th>\n",
       "      <th>type</th>\n",
       "      <th>user_alias</th>\n",
       "      <th>numberRooms</th>\n",
       "      <th>surface</th>\n",
       "      <th>type_param</th>\n",
       "    </tr>\n",
       "  </thead>\n",
       "  <tbody>\n",
       "    <tr>\n",
       "      <th>0</th>\n",
       "      <td>Sur deux niveaux. Quatre chambres Ã  l'Ã©tage....</td>\n",
       "      <td>Maisons</td>\n",
       "      <td>1542978625</td>\n",
       "      <td>24826554</td>\n",
       "      <td>NaN</td>\n",
       "      <td>1066</td>\n",
       "      <td>1'580'000.-</td>\n",
       "      <td>Belle maison moderne et confortable Ã  vendre</td>\n",
       "      <td>s</td>\n",
       "      <td>JustImmo</td>\n",
       "      <td>5.5</td>\n",
       "      <td>170m²</td>\n",
       "      <td>Offres de vente</td>\n",
       "    </tr>\n",
       "    <tr>\n",
       "      <th>1</th>\n",
       "      <td>Ã€ louer au Boveresses 73 1010 lausanne , \\nun...</td>\n",
       "      <td>Appartements</td>\n",
       "      <td>1542977489</td>\n",
       "      <td>23588353</td>\n",
       "      <td>NaN</td>\n",
       "      <td>1010</td>\n",
       "      <td>1'470.- par mois</td>\n",
       "      <td>Appartement Ã  louer</td>\n",
       "      <td>u</td>\n",
       "      <td>ImmoArena24</td>\n",
       "      <td>3.5</td>\n",
       "      <td>90m²</td>\n",
       "      <td>Offres de location</td>\n",
       "    </tr>\n",
       "  </tbody>\n",
       "</table>\n",
       "</div>"
      ],
      "text/plain": [
       "                                                body category_info.name  \\\n",
       "0  Sur deux niveaux. Quatre chambres Ã  l'Ã©tage....            Maisons   \n",
       "1  Ã€ louer au Boveresses 73 1010 lausanne , \\nun...       Appartements   \n",
       "\n",
       "   epoch_time        id address postCode              price  \\\n",
       "0  1542978625  24826554     NaN     1066        1'580'000.-   \n",
       "1  1542977489  23588353     NaN     1010   1'470.- par mois   \n",
       "\n",
       "                                           title type   user_alias  \\\n",
       "0  Belle maison moderne et confortable Ã  vendre    s     JustImmo   \n",
       "1                           Appartement Ã  louer    u  ImmoArena24   \n",
       "\n",
       "  numberRooms surface          type_param  \n",
       "0         5.5   170m²     Offres de vente  \n",
       "1         3.5    90m²  Offres de location  "
      ]
     },
     "execution_count": 31,
     "metadata": {},
     "output_type": "execute_result"
    }
   ],
   "source": [
    "# Rename columns\n",
    "df.rename({'subject':'title', \n",
    "                'rooms': 'numberRooms', \n",
    "                'location_info.address': 'address',\n",
    "                'location_info.plz': 'postCode',\n",
    "                'size':'surface',\n",
    "               }, axis='columns', inplace=True)\n",
    "\n",
    "df.head(2)"
   ]
  },
  {
   "cell_type": "markdown",
   "metadata": {},
   "source": [
    "Export to JSON format:"
   ]
  },
  {
   "cell_type": "code",
   "execution_count": 35,
   "metadata": {
    "collapsed": true
   },
   "outputs": [],
   "source": [
    "df.to_json(FINAL_DIR + 'tutti.json')"
   ]
  }
 ],
 "metadata": {
  "kernelspec": {
   "display_name": "Python 3",
   "language": "python",
   "name": "python3"
  },
  "language_info": {
   "codemirror_mode": {
    "name": "ipython",
    "version": 3
   },
   "file_extension": ".py",
   "mimetype": "text/x-python",
   "name": "python",
   "nbconvert_exporter": "python",
   "pygments_lexer": "ipython3",
   "version": "3.6.3"
  }
 },
 "nbformat": 4,
 "nbformat_minor": 2
}
