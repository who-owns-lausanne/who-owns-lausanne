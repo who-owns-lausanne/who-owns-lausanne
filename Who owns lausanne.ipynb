{
 "cells": [
  {
   "cell_type": "markdown",
   "metadata": {},
   "source": [
    "# Who owns Lausanne? \n",
    "\n",
    "## 1. Public data and owners\n",
    "\n",
    "We obtained ftp access from the Lausanne office of cadastre. The data is a collection of ESRI shapefiles, describing roads, buildings, parcels, trees, waterbodies, and others.\n",
    "Each shapefile is a collection of features, and each feature has an associated geometry (e.g. the shape of a land parcel) and associated attributes ( e.g. the commune responsible for the parcel, the parcel number).\n",
    "\n",
    "We can explore this dataset by using GIS software that supports shapefiles. We used QGIS to explore the dataset.\n",
    "We hoped to find an attribute describing the parcel owner in the parcel shapefile layer, but it wasn't there.\n",
    "We had to resort to web scraping to recover this attribute."
   ]
  },
  {
   "cell_type": "markdown",
   "metadata": {},
   "source": [
    "## 1.1 Scraping owners\n",
    "\n",
    "### 1.1.2 Download XML files\n",
    "We wanted to associate each parcel in Lausanne to an owner. To do this, we divided Lausanne's surface in rectangles, and requested parcel informations for these rectangles to a service exposing the owners name.\n",
    "The code for the scraping is in [`/scraping/owners/scrape_owners_to_xml.py`](/edit/scraping/owners/scrape_owners_to_xml.py).\n",
    "\n",
    "The result of owner scraping is a set of 400 xml files, each containing parcel information for a geographical rectangle. The data are saved in the following directory: `data/raw/owners/`\n",
    "\n",
    "For privacy reason we decided not to push any data on the online github respository.\n",
    "\n",
    "We start exploring the raw owner xml data:"
   ]
  },
  {
   "cell_type": "code",
   "execution_count": null,
   "metadata": {},
   "outputs": [],
   "source": [
    "!ls \"data/raw/owners/\" | wc -l"
   ]
  },
  {
   "cell_type": "markdown",
   "metadata": {},
   "source": [
    "Each file is named after the coordinates, in the Swiss systems, of the top-left and bottom-right points bounding the scraped rectangle."
   ]
  },
  {
   "cell_type": "code",
   "execution_count": null,
   "metadata": {},
   "outputs": [],
   "source": [
    "!ls \"data/raw/owners/\" 2>/dev/null | head -10 # suppress error message by redirecting errors to null"
   ]
  },
  {
   "cell_type": "code",
   "execution_count": null,
   "metadata": {},
   "outputs": [],
   "source": [
    "!head -n 20 \"data/raw/owners/534810.4210526316_155847.0_535161.3710526315_155589.0.xml\""
   ]
  },
  {
   "cell_type": "markdown",
   "metadata": {},
   "source": [
    "### 1.1.2 From XML to a single JSON\n",
    "We use the `xq` and `jq` programs to extract only the features we care about from the differents XML files and save them as a list of objects in a single json file.\n",
    "[`scraping/owners/multiple_xml_to_single_json.sh`](/edit/scraping/owners/multiple_xml_to_single_json.sh) is a small script leveraging the expressiveness of `jq` to efficiently concatenate the XML files into a single json, while also discarding all the attributes we have no interest in."
   ]
  },
  {
   "cell_type": "markdown",
   "metadata": {},
   "source": [
    "### 1.1.3 Remove duplicated and  clean owners JSON\n",
    "The generated `proprio.json` JSON has duplicate entries, entries concerning other communes than lausanne and entries with missing owners. Furthermore, JSON is not the best format to handle tabluar data. The code in [`scraping/owners/owner_json_to_clean_csv.py`](/edit/scraping/owners/owner_json_to_clean_csv.py) clean the duplicates and tranfsorm the data in  CSV files."
   ]
  },
  {
   "cell_type": "markdown",
   "metadata": {},
   "source": [
    "### 1.1.4 Joining the owners data with the cadastre shapefiles\n",
    "The result of the previous preprocessing steps is a CSV file with three columns: `commune number`, `parcel number`, and `owner name`:"
   ]
  },
  {
   "cell_type": "code",
   "execution_count": null,
   "metadata": {},
   "outputs": [],
   "source": [
    "!head 'data/owners/proprio_lausanne.csv'"
   ]
  },
  {
   "cell_type": "markdown",
   "metadata": {},
   "source": [
    "We would like to add the owner name to the attributes of the parcels shapefile that we obtained from \"Office du Cadastre\". To do so, we import the csv and the shapefile in QGIS, and we join this two \"tables\" by parcel number. The resulting geographical layer contains all the geographical features representing the parcels, and additionally the owner name for each parcel. We can now export this layer as a GeoJSON, making sure of using WGS-84 as the coordinate system,  and continue our exploration in a jupyter notebook:"
   ]
  },
  {
   "cell_type": "markdown",
   "metadata": {},
   "source": [
    "## 1.2 Cadastral data - data exploration\n",
    "\n",
    "We now have a GeoJSON, containing parcel geometries and parcel owners."
   ]
  },
  {
   "cell_type": "code",
   "execution_count": null,
   "metadata": {},
   "outputs": [],
   "source": [
    "#imports\n",
    "import json\n",
    "import pandas as pd\n",
    "import matplotlib.pyplot as plt\n",
    "import folium\n",
    "\n",
    "import matplotlib.pyplot as plt\n",
    "%matplotlib inline\n",
    "\n",
    "import seaborn as sns\n",
    "sns.set()\n",
    "\n",
    "from IPython.display import set_matplotlib_formats\n",
    "set_matplotlib_formats('retina')"
   ]
  },
  {
   "cell_type": "code",
   "execution_count": null,
   "metadata": {},
   "outputs": [],
   "source": [
    "with open('data/owners/parcelles_wgs84.geojson') as geojson:\n",
    "    geo = json.load(geojson)\n",
    "# geo.features contains the list of parcelles\n",
    "# example:\n",
    "geo['features'][0]"
   ]
  },
  {
   "cell_type": "code",
   "execution_count": null,
   "metadata": {},
   "outputs": [],
   "source": []
  },
  {
   "cell_type": "markdown",
   "metadata": {},
   "source": [
    "We load the attributes of each geographical features in Pandas:"
   ]
  },
  {
   "cell_type": "code",
   "execution_count": null,
   "metadata": {},
   "outputs": [],
   "source": [
    "features = [\n",
    "    {'parc_num':feature['properties']['NO_PARC'],\n",
    "    'owner':feature['properties']['proprio']} for feature in geo['features']\n",
    "]\n",
    "parcels = pd.DataFrame.from_records(features)\n",
    "parcels.head()"
   ]
  },
  {
   "cell_type": "markdown",
   "metadata": {},
   "source": [
    "### 1.2.1 Who is the biggest real estate owners?\n",
    "\n",
    "We can now quickly answer questions such as who are the 30 biggest property owners in Lausanne, by using the number of parcels owned as to measure \"bigness\":"
   ]
  },
  {
   "cell_type": "code",
   "execution_count": null,
   "metadata": {},
   "outputs": [],
   "source": [
    "parcels_per_owner = parcels['owner'].value_counts()\n",
    "parcels_per_owner.head(30)"
   ]
  },
  {
   "cell_type": "markdown",
   "metadata": {},
   "source": [
    "We can see that all thirty of biggest owners are either corporations, pension funds, or public institutions."
   ]
  },
  {
   "cell_type": "markdown",
   "metadata": {},
   "source": [
    "### 1.2.2 Unique owners"
   ]
  },
  {
   "cell_type": "code",
   "execution_count": null,
   "metadata": {},
   "outputs": [],
   "source": [
    "owners = parcels['owner'].dropna()\n",
    "print('total parcels', len(owners))\n",
    "print('unique owners', len(owners.unique()))"
   ]
  },
  {
   "cell_type": "markdown",
   "metadata": {},
   "source": [
    "There are 8k parcels in Lausanne. We are interestd to know how many people/societies own them. This number doesn't account for PPE. A lower bound on the owners can be estimated by discarding PPE all-together."
   ]
  },
  {
   "cell_type": "code",
   "execution_count": null,
   "metadata": {},
   "outputs": [],
   "source": [
    "len(owners[~owners.str.contains('PPE ')].unique())"
   ]
  },
  {
   "cell_type": "markdown",
   "metadata": {},
   "source": [
    "This is a lower bound for the number of owners, although the real number is likely to be much higher since it's unlikely that all of these owners are also owners of every PPE share."
   ]
  },
  {
   "cell_type": "markdown",
   "metadata": {},
   "source": [
    "### 1.2.3 Visualizing the distribution of missing values"
   ]
  },
  {
   "cell_type": "code",
   "execution_count": null,
   "metadata": {},
   "outputs": [],
   "source": [
    "# Compute portion of missing values\n",
    "parcels['owner'].isna().mean()"
   ]
  },
  {
   "cell_type": "markdown",
   "metadata": {},
   "source": [
    "22% of the parcels don't have owner information. Indeed, many parcels reperesent roads, and as such they didn't have an owner on the site we scraped. Also we didn't scrape the values for the northern part of Lausanne, which is mostly farmland and woods.\n",
    "Let's try to visualize the missing values on a map:"
   ]
  },
  {
   "cell_type": "code",
   "execution_count": null,
   "metadata": {},
   "outputs": [],
   "source": [
    "import folium\n",
    "def getMap():\n",
    "    return folium.Map([46.524, 6.63], tiles='cartodbpositron', zoom_start=14)"
   ]
  },
  {
   "cell_type": "code",
   "execution_count": null,
   "metadata": {},
   "outputs": [],
   "source": [
    "map = getMap()\n",
    "\n",
    "def style_function(feature):\n",
    "    return {\n",
    "        'fillColor':\n",
    "            'red' if feature['properties']['proprio'] is None\\\n",
    "            else 'blue', #red for missing value, blue for valid\n",
    "        'stroke': False\n",
    "    }\n",
    "\n",
    "geo_fol = folium.GeoJson(geo, style_function=style_function)\n",
    "\n",
    "map.add_child(geo_fol)\n",
    "map"
   ]
  },
  {
   "cell_type": "markdown",
   "metadata": {},
   "source": [
    "This visualization is not very snappy or legible, but we can interpret it as follow:\n",
    "\n",
    "- Red areas are parcels for which the proprietary is `None`. The northern parts of Lausanne were not scraped, since we didn't want to overload the scraped website and anyway they're mostly rural. So it is expected that they are red.\n",
    "- Zooming into central Lausanne, we see that roads have unknown owners. This is also expected.\n",
    "- Some areas are an overlap of Blue and Red, yielding purple parcels. This is because the dataset is slightly dirty, and some bigger parcels with no owner contain in their surface smaller parcels with known owners.\n",
    "\n",
    "Having asserted that the dataset is fairly sane, we can drop the features were owner is `None`, since they will be of no use to us, and will make map drawing slower."
   ]
  },
  {
   "cell_type": "code",
   "execution_count": null,
   "metadata": {},
   "outputs": [],
   "source": [
    "geo_clean = geo.copy()"
   ]
  },
  {
   "cell_type": "code",
   "execution_count": null,
   "metadata": {},
   "outputs": [],
   "source": [
    "# replace the list of features by filtering out the features having None as proprio\n",
    "geo_clean['features'] =\\\n",
    "    [feature for feature in geo['features']\n",
    "     if feature['properties']['proprio'] is not None]\n",
    "\n",
    "geo = geo_clean\n",
    "features = [\n",
    "    {'parc_num':feature['properties']['NO_PARC'],\n",
    "    'owner':feature['properties']['proprio']} for feature in geo['features']\n",
    "]\n",
    "parcels = pd.DataFrame.from_records(features)"
   ]
  },
  {
   "cell_type": "markdown",
   "metadata": {},
   "source": [
    "###  1.2.4 Show parcels by owner type\n",
    "\n",
    "The parcel owner format allows us to know the category of each owner. Societies are  by having 'AG' or 'SA' in their name. Similary for coperatives, foundations, and pension funds. We display a map colored by the owner category."
   ]
  },
  {
   "cell_type": "code",
   "execution_count": null,
   "metadata": {},
   "outputs": [],
   "source": [
    "def categorize(owner):\n",
    "    if owner is None:\n",
    "        return None\n",
    "    owner = owner.lower()\n",
    "    \n",
    "    if owner == 'commune de lausanne' or\\\n",
    "        'dfire' in owner or\\\n",
    "        'cff' in owner:\n",
    "        return 'public'\n",
    "    elif 'retraites' in owner or\\\n",
    "        'pensions' in owner or\\\n",
    "        'prévoyance' in owner:\n",
    "        return 'pension'\n",
    "    elif 'fondation' in owner:\n",
    "        return 'foundation'\n",
    "    elif ' s.a.' in owner or\\\n",
    "        ' sa' in owner or\\\n",
    "        ' ag' in owner or\\\n",
    "        'société anonyme' in owner:\n",
    "        return 'AG'\n",
    "    elif 'ppe ' in owner or\\\n",
    "        'copropriété' in owner:\n",
    "        return 'PPE'\n",
    "    elif 'société coopérative' in owner:\n",
    "        return 'coop'\n",
    "    else:\n",
    "        return 'private' #not true but let's approximate"
   ]
  },
  {
   "cell_type": "code",
   "execution_count": null,
   "metadata": {},
   "outputs": [],
   "source": [
    "owners_categories = parcels[['owner']]\n",
    "owners_categories['category'] = owners_categories['owner'].apply(categorize)\n",
    "owners_categories = owners_categories.drop_duplicates().set_index('owner')"
   ]
  },
  {
   "cell_type": "code",
   "execution_count": null,
   "metadata": {},
   "outputs": [],
   "source": [
    "map = getMap()\n",
    "\n",
    "def style_function(feature):\n",
    "    colors = {\n",
    "        'coop': 'yellow',\n",
    "        'AG' : 'red',\n",
    "        'public' : 'green',\n",
    "        'private': 'blue',\n",
    "        'PPE': 'orange',\n",
    "        'pension': 'purple',\n",
    "        'foundation' : 'brown'\n",
    "        \n",
    "    }\n",
    "    owner = feature['properties']['proprio']\n",
    "    cat = owners_categories.loc[owner][0]\n",
    "    \n",
    "    return {\n",
    "        'stroke':False,\n",
    "        'fillColor': colors[cat]\n",
    "    }\n",
    "\n",
    "folium.GeoJson(geo_clean, style_function=style_function, tooltip=folium.GeoJsonTooltip(['proprio'])).add_to(map)\n",
    "map"
   ]
  },
  {
   "cell_type": "markdown",
   "metadata": {},
   "source": [
    "## 2. Rents data"
   ]
  },
  {
   "cell_type": "markdown",
   "metadata": {},
   "source": [
    "### 2.1 Scraping\n",
    "\n",
    "In order to analyse how ownership patterns influence prices, we needed to complement the owners dataset with rent prices.\n",
    "Rent prices are generally not public, but we can scrape from real-estate websites current rent listings, and extract the prices from there.\n",
    "We therefore proceeded to scrape [anibis.ch](https://www.anibis.ch/fr/default.aspx) and [homegate.ch](https://www.homegate.ch/fr) to extract up-to-date datapoints.\n",
    "The scripts use are the following:\n",
    "\n",
    "- for homegate: [`scraping/homegate/scrape_homegate.py`](/edit/scraping/homegate/scrape_homegate.py), a single well structure python program\n",
    "- for anibis:\n",
    "    1. [`scraping/anibis/anibis_scrape_listings.py`](/edit/scraping/anibis/anibis_scrape_listings.py) to download the index of results matching rents in lausanne\n",
    "    2. [`scraping/anibis/anibis_parse_listings.py`](/edit/scraping/anibis/anibis_scrape_listings.py) to parse the listings index.\n",
    "    3. [`scraping/anibis/anibis_scrape_offers.py`](/edit/scraping/anibis/anibis_scrape_offers.py) to download each single rent offer, given a parsed index\n",
    "    4. [`scraping/anibis/anibis_parse_offers.py`](/edit/scraping/anibis/anibis_parse_offers.py) to parse the pages for each offer.\n",
    "\n",
    "We agreed on a shared format to simplify the merging of these two data sources."
   ]
  },
  {
   "cell_type": "markdown",
   "metadata": {},
   "source": [
    "### 2.2 Removing duplicates\n",
    "\n",
    "Most rent listings are published on several websites. When merging the two data sources, we first need to figure out which results are present in both datasets to avoid duplicate datapoints. We consider listings to be duplicates if they have the same address and the same price. The code is in [`cleaning/merge_rent_offers.py`](/edit/cleaning/merge_rent_offers.py) ."
   ]
  },
  {
   "cell_type": "markdown",
   "metadata": {},
   "source": [
    "### 2.3 Mapping street addresses to coordinates\n",
    "The data cleaning up to now provided us with a list of json objects, each one representing a rent offer."
   ]
  },
  {
   "cell_type": "code",
   "execution_count": null,
   "metadata": {},
   "outputs": [],
   "source": [
    "!head -20 data/rents/merged.json"
   ]
  },
  {
   "cell_type": "markdown",
   "metadata": {},
   "source": [
    "The address is in textual form. To perform geographical queries on it, we need to convert it to coordinates. To do so, we use the cadastral layer of building addresses, provided by the Cadastral offic of Lausanne.\n",
    "During merging of the anibis and homegate datasets, the addresses were standardized to use the format used by this cadastral layer.\n",
    "\n",
    "To map an address to a coordinates couple, we iterate over all buildings in Lausanne, and check if the street name and the street number match those of our address. If there's a match, we extract the coordinates of the building from the cadastral layer.\n",
    "\n",
    "This is done in [cleaning/address_to_coords.py](/edit/cleaning/address_to_coords.py) ."
   ]
  },
  {
   "cell_type": "markdown",
   "metadata": {},
   "source": [
    "### 2.4 Visualizing the rents dataset"
   ]
  },
  {
   "cell_type": "code",
   "execution_count": null,
   "metadata": {},
   "outputs": [],
   "source": [
    "# load the json of rent prices\n",
    "rent_prices = json.load(open('data/rents/rent_prices.json'))"
   ]
  },
  {
   "cell_type": "code",
   "execution_count": null,
   "metadata": {},
   "outputs": [],
   "source": [
    "# load the geojson featuring borders for each quartier\n",
    "quartiers = json.load(open('data/quartiers.geojson'))"
   ]
  },
  {
   "cell_type": "code",
   "execution_count": null,
   "metadata": {},
   "outputs": [],
   "source": [
    "# compute the cost per squared meter of the rent\n",
    "for offer in rent_prices:\n",
    "    offer['CHF/m2'] = float(offer['price'])/float(offer['surface'])"
   ]
  },
  {
   "cell_type": "code",
   "execution_count": null,
   "metadata": {},
   "outputs": [],
   "source": [
    "# draw a map showing the location of each vacancy, and the quartiers borders\n",
    "m = getMap()\n",
    "folium.GeoJson(quartiers).add_to(m)\n",
    "for offer in rent_prices:\n",
    "    coords = offer['position']\n",
    "    # Marker wants first the N coordinate and then E\n",
    "    folium.Marker((coords[1], coords[0]), tooltip=offer['CHF/m2']).add_to(m)\n",
    "m"
   ]
  },
  {
   "cell_type": "markdown",
   "metadata": {},
   "source": [
    "We see that several points fall outside of the city borders. But we still have a significant number of avaialable datapoints. We will soon drop the outliers."
   ]
  },
  {
   "cell_type": "markdown",
   "metadata": {},
   "source": [
    "### 2.5 Mapping rent datapoints to quartiers\n",
    "Each rent data-point has a pair of coordinates localizing it in space. _quartiers_ are polygons, whose perimeter is a list of coordinates. We can use the python library `shapely`, that allows us to perform geometrical queries, to find the _quartier_ for each rent offer."
   ]
  },
  {
   "cell_type": "code",
   "execution_count": null,
   "metadata": {},
   "outputs": [],
   "source": [
    "#import the two data structures needed\n",
    "from shapely.geometry import Point, Polygon\n",
    "\n",
    "for offer in rent_prices:\n",
    "    offer['quartier'] = None\n",
    "    for quartier in quartiers['features']:\n",
    "        if quartier['properties']['Name'] == '90 - Zones foraines':\n",
    "            #skip because we don't have owner data for zones foraines\n",
    "            continue\n",
    "        \n",
    "        offer_pos = Point(offer['position'])\n",
    "        #we extract the list of coordinates of the polygon vertices, discarding useless height\n",
    "        quartier_vertices = [(east, north) for east, north, z in quartier['geometry']['coordinates'][0]]\n",
    "        quartier_poly = Polygon(quartier_vertices)\n",
    "        if quartier_poly.contains(offer_pos):\n",
    "            offer['quartier'] = quartier['properties']['Name']"
   ]
  },
  {
   "cell_type": "code",
   "execution_count": null,
   "metadata": {},
   "outputs": [],
   "source": [
    "'%06x' % (hash('ad') % (256**3))"
   ]
  },
  {
   "cell_type": "code",
   "execution_count": null,
   "metadata": {},
   "outputs": [],
   "source": [
    "# let's sanity check by changing the color of the marker depending on the found category\n",
    "\n",
    "m = getMap()\n",
    "folium.GeoJson(quartiers).add_to(m)\n",
    "for offer in rent_prices:\n",
    "    coords = offer['position']\n",
    "    \n",
    "    #little hack to assign a different color to each quartier\n",
    "    color = '%06x' % (hash(offer['quartier']) % (256**3))\n",
    "    \n",
    "    # Marker wants first the N coordinate and then E\n",
    "    folium.CircleMarker(\n",
    "        (coords[1], coords[0]),\n",
    "        radius=5, fill_color='#'+color, weight=0, fill_opacity=1\n",
    "    ).add_to(m)\n",
    "m"
   ]
  },
  {
   "cell_type": "code",
   "execution_count": null,
   "metadata": {},
   "outputs": [],
   "source": [
    "#display median price per neighborhood\n",
    "rents_per_quartier = pd.DataFrame.from_dict(rent_prices)\n",
    "rents_per_quartier[['CHF/m2', 'quartier']].groupby('quartier').agg('median')"
   ]
  },
  {
   "cell_type": "markdown",
   "metadata": {},
   "source": [
    "## 3. Linear model describing relation of ownership and price\n",
    "Next, we will try to extract further insight from the data"
   ]
  }
 ],
 "metadata": {
  "language_info": {
   "name": "python",
   "pygments_lexer": "ipython3"
  }
 },
 "nbformat": 4,
 "nbformat_minor": 2
}
