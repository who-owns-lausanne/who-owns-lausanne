{
 "cells": [
  {
   "cell_type": "markdown",
   "metadata": {},
   "source": [
    "## Data acquisition\n",
    "\n",
    "### Public data\n",
    "\n",
    "We obtained from the Lausanne office of cadastre ftp access to cadastral data. It is a collection of ESRI shapefiles, describing roads, buildings, parcels, trees, waterbodies, and others.\n",
    "Each shapefile is a collection of features, and each feature has an associated geometry (e.g. the shape of a land parcel) and associated attributes ( e.g. the commune responsible for the parcel, the parcel number).\n",
    "\n",
    "We can explore this dataset by using GIS software that supports shapefiles. We used QGIS to \n",
    "We hoped to find an attribute describing the parcel owner in the parcel shapefile layer, but it wasn't there.\n",
    "We had to resort to web scraping to recover this attribute.\n",
    "\n",
    "### Web scraping\n",
    "\n",
    "We wanted to associate each parcel in Lausanne to an owner. To do this, we divided Lausanne's surface in rectangles, and requested parcel informations for these rectangles to a service exposing the owners name.\n",
    "The code for the scraping is in `scrape.py`.\n",
    "\n",
    "## Data munging\n",
    "\n",
    "The result of this scraping is a set of 400 xml files, each containing parcel information for a geographical rectangle."
   ]
  },
  {
   "cell_type": "code",
   "execution_count": 8,
   "metadata": {},
   "outputs": [
    {
     "name": "stdout",
     "output_type": "stream",
     "text": [
      "<?xml version='1.0' encoding=\"UTF-8\" ?>\r\n",
      "<wfs:FeatureCollection\r\n",
      "   xmlns:ms=\"http://mapserver.gis.umn.edu/mapserver\"\r\n",
      "   xmlns:gml=\"http://www.opengis.net/gml\"\r\n",
      "   xmlns:wfs=\"http://www.opengis.net/wfs\"\r\n",
      "   xmlns:ogc=\"http://www.opengis.net/ogc\"\r\n",
      "   xmlns:xsi=\"http://www.w3.org/2001/XMLSchema-instance\"\r\n",
      "   xsi:schemaLocation=\"http://mapserver.gis.umn.edu/mapserver http://map.lausanne.ch/prod/mapserv?SERVICE=WFS&amp;VERSION=1.1.0&amp;REQUEST=DescribeFeatureType&amp;TYPENAME=feature:bdcad_bf_parc_pol&amp;OUTPUTFORMAT=text/xml;%20subtype=gml/3.1.1  http://www.opengis.net/wfs http://schemas.opengis.net/wfs/1.1.0/wfs.xsd\">\r\n",
      "      <gml:boundedBy>\r\n",
      "      \t<gml:Envelope srsName=\"EPSG:21781\">\r\n",
      "      \t\t<gml:lowerCorner>534766.520000 155512.530000</gml:lowerCorner>\r\n",
      "      \t\t<gml:upperCorner>535272.590000 155972.950000</gml:upperCorner>\r\n",
      "      \t</gml:Envelope>\r\n",
      "      </gml:boundedBy>\r\n",
      "    <gml:featureMember>\r\n",
      "      <ms:bdcad_bf_parc_pol gml:id=\"bdcad_bf_parc_pol.6341399\">\r\n",
      "        <gml:boundedBy>\r\n",
      "        \t<gml:Envelope srsName=\"EPSG:21781\">\r\n",
      "        \t\t<gml:lowerCorner>535084.180000 155732.304000</gml:lowerCorner>\r\n",
      "        \t\t<gml:upperCorner>535272.590000 155935.350000</gml:upperCorner>\r\n"
     ]
    }
   ],
   "source": [
    "!head -n 20 scraped/534810.4210526316_155847.0_535161.3710526315_155589.0.xml"
   ]
  },
  {
   "cell_type": "markdown",
   "metadata": {},
   "source": [
    "### From XML to a single json\n",
    "\n",
    "We use the `xq` and `jq` programs to extract only the features we care about from the XML and to save them as a list of objects in a json file.\n",
    "[`multiple_xml_to_single_json.sh`](/edit/multiple_xml_to_single_json.sh) is a small script leveraging the expressiveness of `jq` to efficiently concatenate the XML files into a single json, while also discarding all the attributes we have no interest in.\n",
    "\n",
    "### cleaning the owners json\n",
    "This json has duplicate entries, entries concerning other communes than lausanne, entries with missing owners.\n",
    "Also json is not the best format for tabular data. This cleaning is done in the script [`owner_json_to_clean_csv.py`](/edit/owner_json_to_clean_csv.py).\n",
    "\n",
    "### joining the owners data with the cadastre shapefiles\n",
    "\n",
    "The result of the previous preprocessing steps is a csv file with three columns: commune number, parcel number, and owner name. We would like to add the owner name to the attributes of the parcels shapefile that we obtained from \"Office du Cadastre\". To do so, we import the csv and the shapefile in QGIS, and we join this two \"tables\" by parcel number. The resulting geographical layer contains all the geographical features representing the parcels, and additionally the owner name for each parcel. We can now export this layer as a GeoJSON, and continue our exploration in a jupyter notebook."
   ]
  }
 ],
 "metadata": {
  "kernelspec": {
   "display_name": "Python 3",
   "language": "python",
   "name": "python3"
  },
  "language_info": {
   "codemirror_mode": {
    "name": "ipython",
    "version": 3
   },
   "file_extension": ".py",
   "mimetype": "text/x-python",
   "name": "python",
   "nbconvert_exporter": "python",
   "pygments_lexer": "ipython3",
   "version": "3.7.1"
  }
 },
 "nbformat": 4,
 "nbformat_minor": 2
}
