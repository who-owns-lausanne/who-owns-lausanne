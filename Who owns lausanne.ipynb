{
 "cells": [
  {
   "cell_type": "markdown",
   "metadata": {},
   "source": [
    "## Who owns Lausanne? \n",
    "Introductory Jupyter Notebook.\n",
    "\n",
    "### Introduction\n",
    "#### Public data\n",
    "We obtained ftp access from the Lausanne office of cadastre. The data is a collection of ESRI shapefiles, describing roads, buildings, parcels, trees, waterbodies, and others.\n",
    "Each shapefile is a collection of features, and each feature has an associated geometry (e.g. the shape of a land parcel) and associated attributes ( e.g. the commune responsible for the parcel, the parcel number).\n",
    "\n",
    "We can explore this dataset by using GIS software that supports shapefiles. We used QGIS to explore the dataset.\n",
    "We hoped to find an attribute describing the parcel owner in the parcel shapefile layer, but it wasn't there.\n",
    "We had to resort to web scraping to recover this attribute."
   ]
  },
  {
   "cell_type": "markdown",
   "metadata": {},
   "source": [
    "## 1. Owner scraping\n",
    "\n",
    "### 1.1 Download XML files\n",
    "We wanted to associate each parcel in Lausanne to an owner. To do this, we divided Lausanne's surface in rectangles, and requested parcel informations for these rectangles to a service exposing the owners name.\n",
    "The code for the scraping is in [`/scraping/geodata/scrape_owners_to_xml.py`](/edit/scraping/geodata/scrape_owners_to_xml.py).\n",
    "\n",
    "The result of owner scraping is a set of 400 xml files, each containing parcel information for a geographical rectangle. The data are saved in the following directory: `data/raw/owners/`\n",
    "\n",
    "For privacy reason we decided not to push any data on the online github respository.\n",
    "\n",
    "We start exploring the raw owner xml data:"
   ]
  },
  {
   "cell_type": "code",
   "execution_count": null,
   "metadata": {},
   "outputs": [],
   "source": [
    "!ls \"data/raw/owners/\" | wc -l"
   ]
  },
  {
   "cell_type": "markdown",
   "metadata": {},
   "source": [
    "Each file is named after the coordinates, in the Swiss systems, of the top-left and bottom-right points bounding the scraped rectangle."
   ]
  },
  {
   "cell_type": "code",
   "execution_count": null,
   "metadata": {},
   "outputs": [],
   "source": [
    "!ls \"scraped\" 2>/dev/null | head -10 # suppress error message by redirecting errors to null"
   ]
  },
  {
   "cell_type": "code",
   "execution_count": null,
   "metadata": {},
   "outputs": [],
   "source": [
    "!head -n 20 \"scraped/534810.4210526316_155847.0_535161.3710526315_155589.0.xml\""
   ]
  },
  {
   "cell_type": "markdown",
   "metadata": {},
   "source": [
    "### 1.2 From XML to a single JSON\n",
    "We use the `xq` and `jq` programs to extract only the features we care about from the differents XML files and save them as a list of objects in a single json file.\n",
    "[`scraping/geodata/multiple_xml_to_single_json.sh`](/edit/scraping/geodata/multiple_xml_to_single_json.sh) is a small script leveraging the expressiveness of `jq` to efficiently concatenate the XML files into a single json, while also discarding all the attributes we have no interest in."
   ]
  },
  {
   "cell_type": "markdown",
   "metadata": {},
   "source": [
    "### 1.3 Remove duplicated and  clean owners JSON\n",
    "The generated `proprio.json` JSON has duplicate entries, entries concerning other communes than lausanne and entries with missing owners. Furthermore, JSON is not the best format to handle tabluar data. The code in [`scraping/geodata/owner_json_to_clean_csv.py`](/edit/scraping/geodata/owner_json_to_clean_csv.py) clean the duplicates and tranfsorm the data in  CSV files."
   ]
  },
  {
   "cell_type": "markdown",
   "metadata": {},
   "source": [
    "### 1.4 Joining the owners data with the cadastre shapefiles\n",
    "The result of the previous preprocessing steps is a CSV file with three columns: `commune number`, `parcel number`, and `owner name`:"
   ]
  },
  {
   "cell_type": "code",
   "execution_count": null,
   "metadata": {},
   "outputs": [],
   "source": [
    "# TODO PIETRO ADD \n",
    "\n",
    "# READ 'proprio lausanne' CSV\n",
    "# SHOW HEAD + COLUMNS"
   ]
  },
  {
   "cell_type": "markdown",
   "metadata": {},
   "source": [
    "We would like to add the owner name to the attributes of the parcels shapefile that we obtained from \"Office du Cadastre\". To do so, we import the csv and the shapefile in QGIS, and we join this two \"tables\" by parcel number. The resulting geographical layer contains all the geographical features representing the parcels, and additionally the owner name for each parcel. We can now export this layer as a GeoJSON, making sure of using WGS-84 as the coordinate system,  and continue our exploration in a jupyter notebook:"
   ]
  },
  {
   "cell_type": "markdown",
   "metadata": {},
   "source": [
    "## 2. Cadastral data - data exploration\n",
    "\n",
    "We now have a GeoJSON, containing parcel geometries and parcel owners."
   ]
  },
  {
   "cell_type": "code",
   "execution_count": null,
   "metadata": {},
   "outputs": [],
   "source": [
    "#imports\n",
    "import json\n",
    "import pandas as pd\n",
    "import matplotlib.pyplot as plt\n",
    "import folium\n",
    "\n",
    "import matplotlib.pyplot as plt\n",
    "%matplotlib inline\n",
    "\n",
    "import seaborn as sns\n",
    "sns.set()\n",
    "\n",
    "from IPython.core.interactiveshell import InteractiveShell\n",
    "InteractiveShell.ast_node_interactivity = \"all\"\n",
    "\n",
    "from IPython.display import set_matplotlib_formats\n",
    "set_matplotlib_formats('retina')"
   ]
  },
  {
   "cell_type": "code",
   "execution_count": null,
   "metadata": {},
   "outputs": [],
   "source": [
    "with open('data/owners/parcelles_wgs84.geojson') as geojson:\n",
    "    geo = json.load(geojson)"
   ]
  },
  {
   "cell_type": "code",
   "execution_count": null,
   "metadata": {},
   "outputs": [],
   "source": [
    "# geo.features contains the list of parcelles\n",
    "# example:\n",
    "geo['features'][0]"
   ]
  },
  {
   "cell_type": "markdown",
   "metadata": {},
   "source": [
    "We load the attributes of each geographical features in Pandas:"
   ]
  },
  {
   "cell_type": "code",
   "execution_count": null,
   "metadata": {},
   "outputs": [],
   "source": [
    "features = [\n",
    "    {'parc_num':feature['properties']['NO_PARC'],\n",
    "    'owner':feature['properties']['proprio']} for feature in geo['features']\n",
    "]\n",
    "parcels = pd.DataFrame.from_records(features)\n",
    "parcels.head()"
   ]
  },
  {
   "cell_type": "markdown",
   "metadata": {},
   "source": [
    "## 2.1 Who is the biggest real estate owners?\n",
    "\n",
    "We can now quickly answer questions such as who are the 30 biggest property owners in Lausanne, by using the number of parcels owned as to measure \"bigness\":"
   ]
  },
  {
   "cell_type": "code",
   "execution_count": null,
   "metadata": {},
   "outputs": [],
   "source": [
    "parcels_per_owner = parcels['owner'].value_counts()\n",
    "parcels_per_owner.head(30)"
   ]
  },
  {
   "cell_type": "code",
   "execution_count": null,
   "metadata": {},
   "outputs": [],
   "source": [
    "plt.hist(parcels_per_owner.values, log=True, bins=100);"
   ]
  },
  {
   "cell_type": "markdown",
   "metadata": {},
   "source": [
    "## 2.2 PPE: Propriété par étages (Owners by floor)"
   ]
  },
  {
   "cell_type": "markdown",
   "metadata": {},
   "source": [
    "Some building have more than one owners. Often, different floor of the same house is owned by different owners:"
   ]
  },
  {
   "cell_type": "code",
   "execution_count": null,
   "metadata": {},
   "outputs": [],
   "source": [
    "# Check portion of parcels owned by PPE\n",
    "parcels['owner'].astype('str').str.contains('PPE').mean()"
   ]
  },
  {
   "cell_type": "markdown",
   "metadata": {},
   "source": [
    "Around 8% of parecels are owned by owners by floor. "
   ]
  },
  {
   "cell_type": "markdown",
   "metadata": {},
   "source": [
    "## 2.3 Unique owners"
   ]
  },
  {
   "cell_type": "code",
   "execution_count": null,
   "metadata": {},
   "outputs": [],
   "source": [
    "owners = parcels['owner'].dropna()\n",
    "print('total parcels', len(owners))\n",
    "print('unique owners', len(owners.unique()))"
   ]
  },
  {
   "cell_type": "markdown",
   "metadata": {},
   "source": [
    "There are 8k parcels in Lausanne. We are interestd to know how many people/societies own them. This number doesn't account for PPE. A lower bound on the owners can be estimated by discarding PPE all-together."
   ]
  },
  {
   "cell_type": "code",
   "execution_count": null,
   "metadata": {},
   "outputs": [],
   "source": [
    "len(owners[~owners.str.contains('PPE ')].unique())"
   ]
  },
  {
   "cell_type": "markdown",
   "metadata": {},
   "source": [
    "This is a lower bound for the number of owners, although the real number is likely to be much higher since it's unlikely that all of these owners are also owners of every PPE share."
   ]
  },
  {
   "cell_type": "markdown",
   "metadata": {},
   "source": [
    "## 2.4 Counting the number of PPE shares\n",
    "With Propriété par étage, each building is divided in several shares, and has multiple owners. We don't have the owners for the PPE, but we can estimate the total number of PPE shares. An upper bound for the number of owners would be attributing a distinct owner to every PPE share."
   ]
  },
  {
   "cell_type": "code",
   "execution_count": null,
   "metadata": {},
   "outputs": [],
   "source": [
    "owners[owners.str.contains('PPE ')].head(10)"
   ]
  },
  {
   "cell_type": "markdown",
   "metadata": {},
   "source": [
    "We can see that PPE information is formatted in several ways:\n",
    "\n",
    "- ranges where the first number is fixed, and a suffix is added for each share: `PPE parcelles 3476-1 à 3476-6`\n",
    "- ranges where the number represent the PPE share identifier: `PPE parcelles 16584 à 16609`\n",
    "- ranges mixed with single values: `PPE parcelles 7502 à 7512, 20561, 20562`\n",
    "\n",
    "Parsing this values is not particularly challenging but it is boring, I'll think of it another time **TODO**."
   ]
  },
  {
   "cell_type": "markdown",
   "metadata": {},
   "source": [
    "### 2.5 Visualizing the distribution of missing values"
   ]
  },
  {
   "cell_type": "code",
   "execution_count": null,
   "metadata": {},
   "outputs": [],
   "source": [
    "# Compute portion of missing values\n",
    "parcels['owner'].isna().mean()"
   ]
  },
  {
   "cell_type": "markdown",
   "metadata": {},
   "source": [
    "22% of the parcels don't have owner information. Indeed, many parcels reperesent roads, and as such they didn't have an owner on the site we scraped. Also we didn't scrape the values for the northern part of Lausanne, which is mostly farmland and woods.\n",
    "Let's try to visualize the missing values on a map:"
   ]
  },
  {
   "cell_type": "code",
   "execution_count": null,
   "metadata": {},
   "outputs": [],
   "source": [
    "# TODO: show maps of missing values\n",
    "import folium\n",
    "def getMap():\n",
    "    return folium.Map([46.55, 6.63], tiles='cartodbpositron', zoom_start=13)"
   ]
  },
  {
   "cell_type": "code",
   "execution_count": null,
   "metadata": {},
   "outputs": [],
   "source": [
    "map = getMap()\n",
    "\n",
    "def style_function(feature):\n",
    "    return {\n",
    "        'fillColor':\n",
    "            'red' if feature['properties']['proprio'] is None\\\n",
    "            else 'blue', #red for missing value, blue for valid\n",
    "        'stroke': False\n",
    "    }\n",
    "\n",
    "geo_fol = folium.GeoJson(geo, style_function=style_function)\n",
    "\n",
    "map.add_child(geo_fol)\n",
    "map"
   ]
  },
  {
   "cell_type": "markdown",
   "metadata": {},
   "source": [
    "This visualization is not very snappy or legible, but we can interpret it as follow:\n",
    "\n",
    "- Red areas are parcels for which the proprietary is `None`. The northern parts of Lausanne were not scraped, since we didn't want to overload the scraped website and anyway they're mostly rural. So it is expected that they are red.\n",
    "- Zooming into central Lausanne, we see that roads have unknown owners. This is also expected.\n",
    "- Some areas are an overlap of Blue and Red, yielding purple parcels. This is because the dataset is slightly dirty, and some bigger parcels with no owner contain in their surface smaller parcels with known owners.\n",
    "\n",
    "Having asserted that the dataset is fairly sane, we can drop the features were owner is `None`, since they will be of no use to us, and will make map drawing slower."
   ]
  },
  {
   "cell_type": "code",
   "execution_count": null,
   "metadata": {},
   "outputs": [],
   "source": [
    "geo_clean = geo.copy()"
   ]
  },
  {
   "cell_type": "code",
   "execution_count": null,
   "metadata": {},
   "outputs": [],
   "source": [
    "geo_clean['features'] =\\\n",
    "    [feature for feature in geo['features']\n",
    "     if feature['properties']['proprio'] is not None]"
   ]
  },
  {
   "cell_type": "code",
   "execution_count": null,
   "metadata": {},
   "outputs": [],
   "source": [
    "len(geo_clean['features']), len(geo['features'])"
   ]
  },
  {
   "cell_type": "markdown",
   "metadata": {},
   "source": [
    "## Show parcels by owner type"
   ]
  },
  {
   "cell_type": "code",
   "execution_count": null,
   "metadata": {},
   "outputs": [],
   "source": [
    "def categorize(owner):\n",
    "    if owner is None:\n",
    "        return None\n",
    "    owner = owner.lower()\n",
    "    \n",
    "    if owner == 'commune de lausanne' or\\\n",
    "        'dfire' in owner or\\\n",
    "        'cff' in owner:\n",
    "        return 'public'\n",
    "    elif 'retraites' in owner or\\\n",
    "        'pensions' in owner or\\\n",
    "        'prévoyance' in owner:\n",
    "        return 'pension'\n",
    "    elif 'fondation' in owner:\n",
    "        return 'foundation'\n",
    "    elif ' s.a.' in owner or\\\n",
    "        ' sa' in owner or\\\n",
    "        ' ag' in owner or\\\n",
    "        'société anonyme' in owner:\n",
    "        return 'AG'\n",
    "    elif 'ppe ' in owner or\\\n",
    "        'copropriété' in owner:\n",
    "        return 'PPE'\n",
    "    elif 'société coopérative' in owner:\n",
    "        return 'coop'\n",
    "    else:\n",
    "        return 'private' #not true but let's approximate"
   ]
  },
  {
   "cell_type": "code",
   "execution_count": null,
   "metadata": {},
   "outputs": [],
   "source": [
    "owners_categories = owners.to_frame()\n",
    "owners_categories['category'] = owners.apply(categorize)\n",
    "owners_categories = owners_categories.drop_duplicates().set_index('owner')"
   ]
  },
  {
   "cell_type": "code",
   "execution_count": null,
   "metadata": {},
   "outputs": [],
   "source": [
    "map = getMap()\n",
    "\n",
    "def style_function(feature):\n",
    "    colors = {\n",
    "        'coop': 'yellow',\n",
    "        'AG' : 'red',\n",
    "        'public' : 'green',\n",
    "        'private': 'blue',\n",
    "        'PPE': 'orange',\n",
    "        'pension': 'purple',\n",
    "        'foundation' : 'brown'\n",
    "        \n",
    "    }\n",
    "    owner = feature['properties']['proprio']\n",
    "    cat = owners_categories.loc[owner][0]\n",
    "    \n",
    "    return {\n",
    "        'stroke':False,\n",
    "        'fillColor': colors[cat]\n",
    "    }\n",
    "\n",
    "folium.GeoJson(geo_clean, style_function=style_function, tooltip=folium.GeoJsonTooltip(['proprio'])).add_to(map)\n",
    "map"
   ]
  },
  {
   "cell_type": "markdown",
   "metadata": {},
   "source": [
    "# TODO\n",
    "\n",
    "- more robust categorizing, maybe use https://www.zefix.admin.ch\n",
    "- find habitable volume for each parcel "
   ]
  },
  {
   "cell_type": "markdown",
   "metadata": {},
   "source": [
    "# Questions\n",
    "\n",
    "- How to use Folium without an internet connection?"
   ]
  }
 ],
 "metadata": {
  "language_info": {
   "name": "python",
   "pygments_lexer": "ipython3"
  }
 },
 "nbformat": 4,
 "nbformat_minor": 2
}
