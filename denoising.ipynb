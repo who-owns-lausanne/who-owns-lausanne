{
 "cells": [
  {
   "cell_type": "markdown",
   "metadata": {},
   "source": [
    "## Denoising owner type\n",
    "\n",
    "We want to revisit the colorful owner types map by trying to find spatial clusters with a certain ownership type.\n",
    "We will approach this problem as a denoising one, and we will attribute to each parcel an owner type which is given by the category the most represented in its local neighborhood.\n",
    "We therefore find the K nearest neighbors to a parcel (itself included), and assign as type the most represented type in the neighbors.\n",
    "\n",
    "- Find a representative point for each parcel (maybe the center of mass of the parcel)\n",
    "- For each parcel find its nearest neighbors\n",
    "- compute the distribution of ownership for each neihborhood\n",
    "- assign to the parcel the ownership in the neighborhood"
   ]
  },
  {
   "cell_type": "code",
   "execution_count": null,
   "metadata": {},
   "outputs": [],
   "source": [
    "# TODO explain\n",
    "EARTH_RADIUS_METERS = 6.3e6\n",
    "meters_per_easting_degree = 2*(EARTH_RADIUS_METERS*np.sin(np.pi/4))*np.pi/360\n",
    "meters_per_northing_degree = 2*EARTH_RADIUS_METERS*np.pi/360"
   ]
  },
  {
   "cell_type": "code",
   "execution_count": null,
   "metadata": {},
   "outputs": [],
   "source": [
    "meters_per_easting_degree"
   ]
  },
  {
   "cell_type": "code",
   "execution_count": null,
   "metadata": {},
   "outputs": [],
   "source": [
    "meters_per_northing_degree"
   ]
  },
  {
   "cell_type": "code",
   "execution_count": null,
   "metadata": {},
   "outputs": [],
   "source": [
    "K = 5\n",
    "types = polygons_df[['parc_no', 'owner_type']].copy().set_index('parc_no').sort_index()['owner_type']\n",
    "for (idx, (parc_no, proprio, _, owner_type, x, y)) in polygons_df.iterrows():\n",
    "    distances2 = compute_distance2(polygons_df['x'] - x, polygons_df['y'] - y)\n",
    "    neigh = distances2.sort_values()[:K]\n",
    "    neighbor_parcels = pd.concat((polygons_df, neigh), axis='columns', join='inner')\n",
    "    types.loc[parc_no] = neighbor_parcels['owner_type'].value_counts().index[0]"
   ]
  },
  {
   "cell_type": "code",
   "execution_count": null,
   "metadata": {},
   "outputs": [],
   "source": [
    "polygons_df['owner_type'].value_counts().plot.pie();"
   ]
  },
  {
   "cell_type": "code",
   "execution_count": null,
   "metadata": {},
   "outputs": [],
   "source": [
    "types.value_counts().plot.pie();"
   ]
  },
  {
   "cell_type": "code",
   "execution_count": null,
   "metadata": {},
   "outputs": [],
   "source": [
    "def compute_distance2(delta_east, delta_north):\n",
    "    \"\"\"squared distance in meters\"\"\"\n",
    "    return (delta_east*meters_per_easting_degree)**2 +\\\n",
    "        (delta_north*meters_per_northing_degree)**2"
   ]
  },
  {
   "cell_type": "code",
   "execution_count": null,
   "metadata": {},
   "outputs": [],
   "source": [
    "def polygons_intersection(poly):\n",
    "    def inters(serie):\n",
    "            return serie['poly'].intersection(poly).area\n",
    "    return inters\n",
    "radius = 100\n",
    "types = polygons_df[['parc_no', 'owner_type']].copy().set_index('parc_no').sort_index()['owner_type']\n",
    "for (idx, (parc_no, proprio, poly, owner_type, x, y)) in polygons_df.iterrows():\n",
    "    distances2 = compute_distance2(polygons_df['x'] - x, polygons_df['y'] - y)\n",
    "    neigh = distances2[distances2 < radius**2]\n",
    "    circle = poly.centroid.buffer(radius/meters_per_easting_degree)\n",
    "    neighbor_parcels = pd.concat((polygons_df, neigh), axis='columns', join='inner')\n",
    "    neighbor_parcels['intersection'] = neighbor_parcels.apply(polygons_intersection(circle), axis='columns')\n",
    "    intersection_per_cat = neighbor_parcels.groupby('owner_type')['intersection'].sum()\n",
    "    types.loc[parc_no] = intersection_per_cat.sort_values().index[-1]"
   ]
  },
  {
   "cell_type": "code",
   "execution_count": null,
   "metadata": {},
   "outputs": [],
   "source": [
    "m = getMap()\n",
    "#TODO weight by area\n",
    "def style_function(feature):\n",
    "    colors = {\n",
    "        'coop': 'yellow',\n",
    "        'société' : 'red',\n",
    "        'public' : 'green',\n",
    "        'private': 'blue',\n",
    "        'PPE': 'orange',\n",
    "        'pension': 'purple',\n",
    "        'fondation/association' : 'brown'\n",
    "        \n",
    "    }\n",
    "    parc_num = feature['properties']['NO_PARC']\n",
    "    cat = types[parc_num]\n",
    "    \n",
    "    return {\n",
    "        'stroke':False,\n",
    "        'fillColor': colors[cat]\n",
    "    }\n",
    "\n",
    "folium.GeoJson(\n",
    "    geo_parcels, \n",
    "    style_function=style_function,\n",
    "    # show the owner at hover\n",
    ").add_to(m)\n",
    "m"
   ]
  },
  {
   "cell_type": "code",
   "execution_count": null,
   "metadata": {},
   "outputs": [],
   "source": [
    "def polygons_intersection(poly):\n",
    "    def inters(serie):\n",
    "            return serie['poly'].intersection(poly).area\n",
    "    return inters\n",
    "radius = 100\n",
    "diverse = polygons_df[['parc_no', 'owner_type']].copy().set_index('parc_no').sort_index()['owner_type']\n",
    "for (idx, (parc_no, proprio, poly, owner_type, x, y)) in polygons_df.iterrows():\n",
    "    distances2 = compute_distance2(polygons_df['x'] - x, polygons_df['y'] - y)\n",
    "    neigh = distances2[distances2 < radius**2]\n",
    "    circle = poly.centroid.buffer(radius/meters_per_easting_degree)\n",
    "    neighbor_parcels = pd.concat((polygons_df, neigh), axis='columns', join='inner')\n",
    "    neighbor_parcels['intersection'] = neighbor_parcels.apply(polygons_intersection(circle), axis='columns')\n",
    "    intersection_per_owner = neighbor_parcels.groupby('proprio')['intersection'].sum()\n",
    "    p = intersection_per_owner / intersection_per_cat.sum()\n",
    "    diverse.loc[parc_no] = scipy.stats.entropy(p)"
   ]
  },
  {
   "cell_type": "code",
   "execution_count": null,
   "metadata": {},
   "outputs": [],
   "source": [
    "from matplotlib import cm\n",
    "from matplotlib import colors"
   ]
  },
  {
   "cell_type": "code",
   "execution_count": null,
   "metadata": {},
   "outputs": [],
   "source": [
    "m = getMap()\n",
    "#TODO weight by area\n",
    "min_s, max_s = 1, np.quantile(diverse.values, q = .95)\n",
    "\n",
    "def style_function(feature):\n",
    "    def entropy_color(entropy):\n",
    "        rgb = cm.RdGy( (entropy - min_s) / (max_s - min_s))\n",
    "        return colors.rgb2hex(rgb)\n",
    "    \n",
    "    parc_num = feature['properties']['NO_PARC']\n",
    "    entropy = diverse[parc_num]    \n",
    "    return {\n",
    "        'stroke':False,\n",
    "        'fillColor': entropy_color(entropy),\n",
    "        'fillOpacity':0.8\n",
    "    }\n",
    "\n",
    "folium.GeoJson(\n",
    "    geo_parcels, \n",
    "    style_function=style_function,\n",
    "    # show the owner at hover\n",
    ").add_to(m)\n",
    "m"
   ]
  }
 ],
 "metadata": {
  "language_info": {
   "name": "python",
   "pygments_lexer": "ipython3"
  }
 },
 "nbformat": 4,
 "nbformat_minor": 2
}
